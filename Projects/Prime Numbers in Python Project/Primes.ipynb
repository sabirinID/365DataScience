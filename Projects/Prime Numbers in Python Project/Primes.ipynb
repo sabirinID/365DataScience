{
  "cells": [
    {
      "cell_type": "markdown",
      "source": [
        "# Prime Numbers in Python Project"
      ],
      "metadata": {
        "id": "lGYhsSQozJbF"
      },
      "id": "lGYhsSQozJbF"
    },
    {
      "cell_type": "code",
      "source": [
        "import sys\n",
        "\n",
        "print(sys.version)"
      ],
      "metadata": {
        "colab": {
          "base_uri": "https://localhost:8080/"
        },
        "id": "BLHCLbbK6vLz",
        "outputId": "0f3c7059-de39-46fb-c5a7-c6a728069246"
      },
      "id": "BLHCLbbK6vLz",
      "execution_count": 1,
      "outputs": [
        {
          "output_type": "stream",
          "name": "stdout",
          "text": [
            "3.10.12 (main, Jun 11 2023, 05:26:28) [GCC 11.4.0]\n"
          ]
        }
      ]
    },
    {
      "cell_type": "code",
      "source": [
        "def is_prime(n):\n",
        "    \"\"\"\n",
        "    Checks whether a given number is prime.\n",
        "\n",
        "    Args:\n",
        "        n (int): The number to check.\n",
        "\n",
        "    Returns:\n",
        "        bool: True if the number is prime, False otherwise.\n",
        "    \"\"\"\n",
        "\n",
        "    # Check for the special cases of 0 and 1.\n",
        "    if n <= 1:\n",
        "        return False\n",
        "    # Check for the special cases of 2 and 3.\n",
        "    if n <= 3:\n",
        "        return True\n",
        "    # Check for divisibility by 2 and 3.\n",
        "    if n % 2 == 0 or n % 3 == 0:\n",
        "        return False\n",
        "    i = 5\n",
        "    # Check for divisibility by odd numbers up to the square root of n.\n",
        "    while i * i <= n:\n",
        "        if n % i == 0 or n % (i + 2) == 0:\n",
        "            return False\n",
        "        i += 6\n",
        "    return True"
      ],
      "metadata": {
        "id": "arsk-a9o4va6"
      },
      "id": "arsk-a9o4va6",
      "execution_count": 2,
      "outputs": []
    },
    {
      "cell_type": "markdown",
      "source": [
        "or"
      ],
      "metadata": {
        "id": "wTJ_0Pw24fAU"
      },
      "id": "wTJ_0Pw24fAU"
    },
    {
      "cell_type": "code",
      "execution_count": 3,
      "id": "f88193e8",
      "metadata": {
        "id": "f88193e8"
      },
      "outputs": [],
      "source": [
        "def is_prime(n):\n",
        "    # Deal with special cases\n",
        "    if n == 0 or n == 1:\n",
        "        return False\n",
        "    # Loop through all numbers between 2 and n - 1, and check if n is NOT prime\n",
        "    i = 2\n",
        "    while i < n:\n",
        "        if n % i == 0:\n",
        "            return False\n",
        "        i += 1\n",
        "    # If the program reached this point, that means the number is prime\n",
        "    return True"
      ]
    },
    {
      "cell_type": "code",
      "execution_count": 4,
      "id": "cfe92b30",
      "metadata": {
        "colab": {
          "base_uri": "https://localhost:8080/"
        },
        "id": "cfe92b30",
        "outputId": "629fac8e-1f76-47ff-891d-bc3137d22550"
      },
      "outputs": [
        {
          "output_type": "execute_result",
          "data": {
            "text/plain": [
              "False"
            ]
          },
          "metadata": {},
          "execution_count": 4
        }
      ],
      "source": [
        "is_prime(123)"
      ]
    },
    {
      "cell_type": "code",
      "execution_count": 5,
      "id": "e5279165",
      "metadata": {
        "colab": {
          "base_uri": "https://localhost:8080/"
        },
        "id": "e5279165",
        "outputId": "1b346372-aeb0-46fa-c2cc-e485660cff42"
      },
      "outputs": [
        {
          "output_type": "execute_result",
          "data": {
            "text/plain": [
              "True"
            ]
          },
          "metadata": {},
          "execution_count": 5
        }
      ],
      "source": [
        "is_prime(827)"
      ]
    },
    {
      "cell_type": "markdown",
      "source": [
        "## Count the number of primes in the range of 15 to 25, inclusive"
      ],
      "metadata": {
        "id": "xL9AO5j55xwO"
      },
      "id": "xL9AO5j55xwO"
    },
    {
      "cell_type": "code",
      "source": [
        "count = 0\n",
        "\n",
        "for i in range(15, 26):\n",
        "    if is_prime(i):\n",
        "        count += 1\n",
        "\n",
        "print(\"There are\", count, \"prime numbers in the range from 15 to 25, inclusive.\")"
      ],
      "metadata": {
        "colab": {
          "base_uri": "https://localhost:8080/"
        },
        "id": "MyoEu-Om3Tbr",
        "outputId": "de35b5b8-4ab5-41df-b935-df9fbbf55f73"
      },
      "execution_count": 6,
      "outputs": [
        {
          "output_type": "stream",
          "name": "stdout",
          "text": [
            "There are 3 prime numbers in the range from 15 to 25, inclusive.\n"
          ]
        }
      ],
      "id": "MyoEu-Om3Tbr"
    },
    {
      "cell_type": "markdown",
      "id": "c6a6a011",
      "metadata": {
        "id": "c6a6a011"
      },
      "source": [
        "## Count the number of primes in the range of 100 to 151, inclusive"
      ]
    },
    {
      "cell_type": "code",
      "execution_count": 7,
      "id": "4a815756",
      "metadata": {
        "colab": {
          "base_uri": "https://localhost:8080/"
        },
        "id": "4a815756",
        "outputId": "1a72ca6c-6e4b-43d3-c141-ffb1a49e8c92"
      },
      "outputs": [
        {
          "output_type": "stream",
          "name": "stdout",
          "text": [
            "11\n"
          ]
        }
      ],
      "source": [
        "count = 0\n",
        "\n",
        "for i in range(100, 152):\n",
        "    if is_prime(i):\n",
        "        count += 1\n",
        "\n",
        "print(count)"
      ]
    },
    {
      "cell_type": "code",
      "execution_count": 8,
      "id": "d157c697",
      "metadata": {
        "colab": {
          "base_uri": "https://localhost:8080/"
        },
        "id": "d157c697",
        "outputId": "e18611b1-81d9-4138-8e37-27b79b406e9f"
      },
      "outputs": [
        {
          "output_type": "stream",
          "name": "stdout",
          "text": [
            "313\n"
          ]
        }
      ],
      "source": [
        "l = [326, 303, 313, 351]\n",
        "\n",
        "for i in l:\n",
        "    if is_prime(i):\n",
        "        print(i)"
      ]
    },
    {
      "cell_type": "markdown",
      "id": "1cca11c6",
      "metadata": {
        "id": "1cca11c6"
      },
      "source": [
        "## Improve in the function code a bit (Optional)"
      ]
    },
    {
      "cell_type": "code",
      "execution_count": 9,
      "id": "1e464daa",
      "metadata": {
        "id": "1e464daa"
      },
      "outputs": [],
      "source": [
        "# Import this library so we can calculate square roots\n",
        "import math\n",
        "\n",
        "def is_prime_improved(n):\n",
        "\n",
        "    # Deal with special cases\n",
        "    if n == 0 or n == 1:\n",
        "        return False\n",
        "\n",
        "    # Loop through all numbers between 2 and the square root of n, and check if n is NOT prime\n",
        "    # If n is divisible by any number greater than sqrt(n),\n",
        "    # its counterpart in the product would be a number smaller than sqrt(n),\n",
        "    # and thus, we would have already checked it\n",
        "    i = 2\n",
        "    while i <= math.sqrt(n):\n",
        "        if n % i == 0:\n",
        "            return False\n",
        "        i = i + 1\n",
        "\n",
        "    # If the program reached this point, that means the number is prime\n",
        "    return True"
      ]
    }
  ],
  "metadata": {
    "kernelspec": {
      "display_name": "Python 3 (ipykernel)",
      "language": "python",
      "name": "python3"
    },
    "language_info": {
      "codemirror_mode": {
        "name": "ipython",
        "version": 3
      },
      "file_extension": ".py",
      "mimetype": "text/x-python",
      "name": "python",
      "nbconvert_exporter": "python",
      "pygments_lexer": "ipython3",
      "version": "3.9.7"
    },
    "colab": {
      "provenance": []
    }
  },
  "nbformat": 4,
  "nbformat_minor": 5
}